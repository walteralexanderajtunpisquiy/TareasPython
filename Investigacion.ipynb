{
 "cells": [
  {
   "cell_type": "markdown",
   "id": "1a6a1845-e087-450c-8654-0c0331870c01",
   "metadata": {},
   "source": [
    "¿Que es git ?\n",
    "Git es un sistema de control de versiones distribuido que te permite registrar los cambios que haces en tus archivos y volver a versiones anteriores si algo sale mal"
   ]
  },
  {
   "cell_type": "markdown",
   "id": "a5d3e762-47ed-454c-8272-770fd0124590",
   "metadata": {},
   "source": [
    "¿Qué es Github ?\n",
    "GitHub es un servicio basado en la nube que aloja un sistema de control de versiones (VCS) llamado Git. Éste permite a los desarrolladores colaborar y realizar cambios en proyectos compartidos, a la vez que mantienen un seguimiento detallado de su progreso."
   ]
  },
  {
   "cell_type": "code",
   "execution_count": null,
   "id": "4f44f854-443b-41ee-a6e4-bc0d7b28b87c",
   "metadata": {},
   "outputs": [],
   "source": [
    "• Qué es git\n",
    "• Qué es github\n",
    "• Markdown y sus comandos\n",
    "* MagicCells\n",
    "Información de entrega\n",
    "• Link de github\n",
    "• Verificar que el link sea público"
   ]
  },
  {
   "cell_type": "markdown",
   "id": "c0d5f2cc-3e1e-4d72-bef7-102f92d27e8d",
   "metadata": {
    "tags": []
   },
   "source": [
    "## Qué es Markdown\n",
    "\n",
    "Markdown es un lenguaje de marcado que facilita la aplicación de formato a un texto empleando una serie de caracteres de una forma especial.\n",
    "En principio, fue pensado para elaborar textos cuyo destino iba a ser la web con más rapidez y sencillez que si estuviésemos empleando \n",
    "directamente HTML. Y si bien ese suele ser el mejor uso que podemos darle, también podemos emplearlo para cualquier tipo de texto,\n",
    "independientemente de cual vaya a ser su destino."
   ]
  },
  {
   "cell_type": "markdown",
   "id": "9b5833d9-b40f-4ac0-b50f-8c69e24c7ae3",
   "metadata": {
    "tags": []
   },
   "source": [
    "\"Quien fue a Santiago,  \n",
    "perdió su clase de redes\""
   ]
  },
  {
   "cell_type": "code",
   "execution_count": null,
   "id": "5fcb0cc8-8019-46ce-97f6-d0ecabd47662",
   "metadata": {},
   "outputs": [],
   "source": [
    "Título\n",
    "Para crear un título en Markdown, se utiliza de forma predeterminada una almohadilla, que se pone delante del texto,\n",
    "separada por un espacio en blanco. Para crear subtítulos y, por lo tanto, en letra más pequeña, se insertan más almohadillas.\n",
    "De esta manera, se pueden crear hasta seis niveles de títulos, como en HTML"
   ]
  },
  {
   "cell_type": "code",
   "execution_count": null,
   "id": "3b95b192-6b41-4844-aa12-76cb5360d907",
   "metadata": {},
   "outputs": [],
   "source": [
    "# Título 1\n",
    "## Título 2\n",
    "### Título 3\n",
    "#### Título 4\n",
    "##### Título 5\n",
    "###### Título 6 "
   ]
  },
  {
   "cell_type": "markdown",
   "id": "19e3c8b3-48e8-4067-a53c-bd9902e3bce5",
   "metadata": {},
   "source": [
    "# Título 1\n",
    "## Título 2\n",
    "### Título 3\n",
    "#### Título 4\n",
    "##### Título 5\n",
    "###### Título 6"
   ]
  },
  {
   "cell_type": "code",
   "execution_count": null,
   "id": "50b65a21-fd75-4d6b-a036-cf5768bacc1b",
   "metadata": {},
   "outputs": [],
   "source": []
  }
 ],
 "metadata": {
  "kernelspec": {
   "display_name": "Python 3 (ipykernel)",
   "language": "python",
   "name": "python3"
  },
  "language_info": {
   "codemirror_mode": {
    "name": "ipython",
    "version": 3
   },
   "file_extension": ".py",
   "mimetype": "text/x-python",
   "name": "python",
   "nbconvert_exporter": "python",
   "pygments_lexer": "ipython3",
   "version": "3.11.5"
  }
 },
 "nbformat": 4,
 "nbformat_minor": 5
}
